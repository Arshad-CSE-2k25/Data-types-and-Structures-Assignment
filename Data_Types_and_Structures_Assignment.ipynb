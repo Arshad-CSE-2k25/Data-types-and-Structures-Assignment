{
  "nbformat": 4,
  "nbformat_minor": 0,
  "metadata": {
    "colab": {
      "provenance": []
    },
    "kernelspec": {
      "name": "python3",
      "display_name": "Python 3"
    },
    "language_info": {
      "name": "python"
    }
  },
  "cells": [
    {
      "cell_type": "markdown",
      "source": [
        "# Data Types and Structures"
      ],
      "metadata": {
        "id": "XcS3cRl-R_lh"
      }
    },
    {
      "cell_type": "markdown",
      "source": [
        "1. What are the Data Structures and why are they important?\n",
        "   - Data structures are methods of organizing and storing data in a way that allows for efficient access and modification. They determine how data is stored, managed, and processed in computer programs. Common examples include arrays, linked lists, stacks, queues, trees, and hash tables. The importance of data structures lies in their ability to optimize the performance of programs. They ensure that operations like searching, inserting, and deleting data are done quickly and efficiently. Using the right data structure helps in managing memory effectively, improving the scalability of applications, and enabling developers to implement complex algorithms more easily. In essence, choosing the appropriate data structure is crucial for writing fast, efficient, and maintainable code.\n",
        "\n",
        "2. Explain the difference between mutable and immutable data types with examples?\n",
        "   - Mutable data types are those whose values can be changed after they are created. Examples include lists, sets, and dictionaries in Python, where you can add, remove, or modify elements. Immutable data types, on the other hand, cannot be changed once they are created. Examples include integers, strings, and tuples in Python, where any modification results in the creation of a new object. The key difference is that mutable objects can be altered in place, while immutable objects cannot, which impacts how they are handled in programs, especially in terms of memory and performance.\n",
        "\n",
        "3. What are the main differences between lists and tuples in python?\n",
        "   - The main differences between lists and tuples in Python are:\n",
        "\n",
        "    1. **Mutability**: Lists are mutable, meaning their contents can be changed, whereas tuples are immutable, meaning their contents cannot be altered once they are created.\n",
        "\n",
        "    2. **Syntax**: Lists are defined using square brackets `[]`, while tuples are defined using parentheses `()`.\n",
        "\n",
        "    3. **Performance**: Tuples generally offer better performance in terms of speed and memory usage compared to lists because of their immutability.\n",
        "\n",
        "    4. **Use Cases**: Lists are suitable for collections of items that may change, while tuples are used for fixed collections of items that should not be modified.\n",
        "\n",
        "    5. **Methods**: Lists have a wider range of methods for modification, such as adding and removing elements, whereas tuples have fewer methods since they cannot be changed.\n",
        "\n",
        "4. Describe how dictionaries store data?\n",
        "   - Dictionaries in Python store data as key-value pairs. Each key is unique and maps to a corresponding value. Internally, dictionaries use a hash table to efficiently store and retrieve data. When a key-value pair is added, the key is hashed to produce a unique index where the associated value is stored. This allows for fast lookups, additions, and deletions based on the key. Keys must be immutable data types (e.g., strings, numbers, tuples), while values can be of any data type, including mutable ones like lists or other dictionaries.\n",
        "\n",
        "5. Why might you use a set instead of a list in Python?\n",
        "   - You might use a **set** instead of a **list** in Python when:\n",
        "\n",
        "    1. **Uniqueness of elements**: Sets automatically ensure that all elements are unique. If you need to store a collection of items but only care about distinct values, a set is ideal because it will eliminate duplicates for you.\n",
        "\n",
        "    2. **Fast membership testing**: Sets provide faster membership testing (i.e., checking if an item exists in the set) compared to lists. This is because sets use a hash table internally, which allows for O(1) average time complexity for lookups, while lists require O(n) time for searching.\n",
        "\n",
        "    3. **Set operations**: Sets support mathematical set operations like union, intersection, difference, and symmetric difference. If you need to perform these types of operations on your data, sets are more efficient and convenient than lists.\n",
        "\n",
        "    4. **Order does not matter**: Sets are unordered collections, meaning they do not maintain the order of elements. If order is not important in your data, using a set can save memory and improve performance over a list.\n",
        "\n",
        "    In summary, sets are useful when you need to ensure uniqueness, perform set operations, or check membership efficiently, and when the order of elements doesn’t matter.\n",
        "\n",
        "6. Why might you use a set instead of a list in pyhton?\n",
        "   - You might use a **set** instead of a **list** in Python for several reasons:\n",
        "\n",
        "    1. **Uniqueness of Elements**: Sets automatically remove duplicates, so if you only want unique values, using a set will prevent any repeated elements, unlike lists that allow duplicates.\n",
        "\n",
        "    2. **Fast Membership Testing**: Sets offer faster lookup times for checking if an element exists, with average O(1) time complexity, while checking membership in a list takes O(n) time.\n",
        "\n",
        "    3. **Set Operations**: Sets support powerful set operations like union, intersection, and difference, which can be more efficient and convenient when dealing with multiple collections of data.\n",
        "\n",
        "    4. **Order Doesn't Matter**: Sets are unordered, meaning they don't preserve the order of elements. If the order isn’t important for your use case, a set might be more efficient in terms of memory and performance than a list.\n",
        "\n",
        "    In summary, if you need to ensure uniqueness, perform fast lookups, or use set operations, a set is a better choice than a list in Python.\n",
        "\n",
        "7. How do tuples ensure data integrity in pyhton?\n",
        "   - Tuples ensure data integrity in Python by being **immutable**. Once a tuple is created, its elements cannot be changed, added, or removed. This immutability guarantees that the data stored in a tuple remains constant throughout the program.\n",
        "\n",
        "    Because of this, tuples are often used when you need to protect the integrity of data, ensuring it doesn't get accidentally altered. For example, if you want to pass a collection of values that should remain unchanged (like configuration settings or coordinates), you can use a tuple to prevent modification.\n",
        "\n",
        "    Immutability also makes tuples more reliable for use as dictionary keys or in sets, as their hash values remain consistent. This property reduces the risk of unexpected behavior from accidental changes.\n",
        "\n",
        "8. What is hash table, and how does it relate to dictionaries in pyhton?\n",
        "   - A **hash table** is a data structure that stores key-value pairs, where each key is mapped to a specific index or \"bucket\" based on a hash function. The hash function takes the key and computes an integer value (called the hash code), which is then used to determine where the corresponding value is stored in the table. Hash tables provide efficient operations for adding, removing, and looking up values, typically with an average time complexity of O(1), because accessing a value is as simple as computing the hash of the key and finding the corresponding bucket.\n",
        "\n",
        "    In Python, **dictionaries** use a hash table internally to store data. Each key in a dictionary is hashed, and the hash code determines the index where the associated value is stored. When you look up a value by its key, Python computes the hash of the key to quickly find the corresponding value in the dictionary. This is why dictionary operations like lookups, inserts, and deletions are very fast on average, as long as there are minimal collisions (when two keys hash to the same index).\n",
        "\n",
        "    The relationship between hash tables and Python dictionaries is that dictionaries implement the concept of a hash table to enable fast, efficient access to data via keys.\n",
        "\n",
        "9. Can lists contain different data types in python?\n",
        "   - Yes, **lists** in Python can contain elements of different data types. A single list can store integers, strings, floating-point numbers, boolean values, other lists, dictionaries, and even custom objects. Python lists are **heterogeneous**, meaning they don't require all elements to be of the same type.\n",
        "\n",
        "    For example, a list can contain a mix of data types like this:\n",
        "\n",
        "    ```python\n",
        "    my_list = [42, \"hello\", 3.14, True, [1, 2, 3], {\"key\": \"value\"}]\n",
        "    ```\n",
        "\n",
        "    This list contains an integer, a string, a float, a boolean, a nested list, and a dictionary, showing the flexibility of Python lists in holding mixed data types.\n",
        "\n",
        "10. Explain why strings are immutable in python?\n",
        "    - Strings in Python are **immutable** because they are designed to be efficient and safe for use in programs. The immutability of strings means that once a string is created, its value cannot be changed. Here are a few reasons why strings are immutable in Python:\n",
        "\n",
        "    1. **Efficiency**: String immutability allows for optimization in memory usage and performance. Since strings are immutable, they can be safely shared between different parts of a program without the risk of being modified unexpectedly. This reduces the overhead of copying or locking resources when the string is accessed by multiple parts of the program.\n",
        "\n",
        "    2. **Hashing and Use as Dictionary Keys**: Strings are often used as keys in dictionaries and elements in sets. To ensure that their hash values remain consistent, they must be immutable. If strings were mutable, modifying them could alter their hash values, which would cause inconsistencies when used as dictionary keys or set elements.\n",
        "\n",
        "    3. **Data Integrity**: Immutability guarantees that the original value of a string remains unchanged throughout its life in a program. This helps prevent accidental modifications, providing a level of data integrity, which is important when working with sensitive or fixed data.\n",
        "\n",
        "    4. **Memory Management**: Since strings are immutable, Python can optimize memory by reusing string objects. When the same string appears multiple times in a program, Python may store a single copy of the string and refer to it, saving memory and improving performance. This is especially important for large-scale programs where many identical strings might be used.\n",
        "\n",
        "    In summary, the immutability of strings in Python ensures better memory management, improved performance, data integrity, and consistency, especially when strings are used as dictionary keys or in other situations where their content should not change.\n",
        "\n",
        "11. What advantages do dictionaries offer over lists for certain tasks?\n",
        "    - Dictionaries offer several advantages over lists for certain tasks, particularly when you need fast, efficient lookups or when the relationship between data elements is important. Here are some of the key advantages:\n",
        "\n",
        "    1. **Fast Lookups by Key**: Dictionaries use a hash table internally, allowing for **constant-time lookups** (O(1)) on average. When you need to access a specific item based on a unique identifier (the key), dictionaries provide much faster access compared to lists, which require searching through all elements (O(n)).\n",
        "\n",
        "    2. **Key-Value Mapping**: Dictionaries are ideal for scenarios where you need to map one piece of data (the key) to another (the value). For example, if you need to associate names with phone numbers, dictionaries allow you to efficiently retrieve the phone number associated with a name. Lists, on the other hand, do not provide a direct way to associate values with keys.\n",
        "\n",
        "    3. **Uniqueness of Keys**: In dictionaries, each key must be unique. This ensures that you cannot accidentally store duplicate data under the same key, whereas lists allow duplicates, which might lead to ambiguity or errors when trying to reference items.\n",
        "\n",
        "    4. **Efficient Data Modification**: When you need to update or delete specific elements based on a key, dictionaries provide an efficient way to modify data in place, whereas lists may require you to search through the entire list to find the element, which can be slower.\n",
        "\n",
        "    5. **Flexibility of Data**: In a dictionary, you can store various types of data as values, and they don’t need to follow any specific order. This makes dictionaries more flexible for tasks where you need to quickly access and modify data based on unique identifiers or conditions.\n",
        "\n",
        "    In summary, dictionaries are a better choice than lists when you need efficient, fast access to data using keys, need to map relationships between data elements, or need to ensure unique identifiers for each piece of data.\n",
        "\n",
        "12. Describe a scenario where using a tuple would be preferable over a list?\n",
        "    - A scenario where using a **tuple** would be preferable over a list is when you need to store a collection of values that should remain **constant** and **unchanged** throughout the program. This could apply to situations where data integrity is important, and you want to ensure that no accidental modifications occur.\n",
        "\n",
        "    For example, if you're working with **geographical coordinates** (latitude and longitude) for a specific location, these values should not change after being set. Using a tuple would ensure that the coordinates cannot be modified later in the program, providing data integrity.\n",
        "\n",
        "    ```python\n",
        "    coordinates = (40.7128, -74.0060)  # Latitude and longitude of New York City\n",
        "    ```\n",
        "\n",
        "    In this case, a tuple is preferred because:\n",
        "\n",
        "    1. **Immutability**: The coordinates should not change, and using a tuple guarantees that they remain constant.\n",
        "    2. **Data Integrity**: The tuple prevents accidental modification of the values, ensuring the data remains consistent.\n",
        "    3. **Performance**: Tuples are more memory-efficient and slightly faster than lists, which might be beneficial when handling large numbers of fixed data items.\n",
        "\n",
        "    This makes tuples ideal for storing fixed collections of data, such as coordinates, RGB values, or configuration settings, where you want to ensure that the data cannot be altered unintentionally.\n",
        "\n",
        "13. How do sets handle duplicate values in python?\n",
        "    - In Python, **sets** automatically **eliminate duplicate values**. When you try to add a duplicate element to a set, it will simply **ignore the duplicate** and not add it again. This is because sets are designed to only contain **unique elements**.\n",
        "\n",
        "    For example, if you attempt to add the same value multiple times to a set, only one instance of that value will be stored:\n",
        "\n",
        "    ```python\n",
        "    my_set = {1, 2, 3}\n",
        "    my_set.add(2)  # Adding a duplicate\n",
        "    my_set.add(4)\n",
        "\n",
        "    print(my_set)  # Output: {1, 2, 3, 4}\n",
        "    ```\n",
        "\n",
        "    Here, the second attempt to add the value `2` is ignored because sets only allow unique values. As a result, the set remains with `{1, 2, 3, 4}`, without any duplicates.\n",
        "\n",
        "    This behavior makes sets particularly useful when you need to store a collection of items where duplicates are not allowed, and you want to ensure that each element appears only once.\n",
        "\n",
        "14. How does the 'in' keyword works differently for lists and dictionaries?\n",
        "    - The **`in`** keyword works differently for **lists** and **dictionaries** in Python, as it checks for membership in distinct ways.\n",
        "\n",
        "    1. **For Lists**: The `in` keyword checks if a **specific value** exists in the list. It goes through each element in the list and returns `True` if it finds a match.\n",
        "\n",
        "      Example:\n",
        "      ```python\n",
        "      my_list = [10, 20, 30]\n",
        "      20 in my_list  # Returns True\n",
        "      40 in my_list  # Returns False\n",
        "      ```\n",
        "\n",
        "      Here, the `in` keyword checks if the exact value (e.g., `20` or `40`) is present in the list.\n",
        "\n",
        "    2. **For Dictionaries**: The `in` keyword checks if a **specific key** exists in the dictionary. It does not check for values by default. To check for a value, you'd need to iterate through the dictionary's values separately.\n",
        "\n",
        "      Example (checking for keys):\n",
        "      ```python\n",
        "      my_dict = {\"a\": 1, \"b\": 2}\n",
        "      \"a\" in my_dict  # Returns True\n",
        "      \"c\" in my_dict  # Returns False\n",
        "      ```\n",
        "\n",
        "      Example (checking for values):\n",
        "      ```python\n",
        "      1 in my_dict.values()  # Returns True\n",
        "      3 in my_dict.values()  # Returns False\n",
        "      ```\n",
        "\n",
        "      Here, the `in` keyword checks if the specified **key** (e.g., `\"a\"`) exists in the dictionary. To check for values, you would explicitly use `in my_dict.values()`.\n",
        "\n",
        "    ### Summary:\n",
        "    - For **lists**, `in` checks if a **value** exists.\n",
        "    - For **dictionaries**, `in` checks if a **key** exists (not the value). To check for values, you would use `in my_dict.values()`.\n",
        "\n",
        "15. Can you modify the element of tuple? Explain why or why not?\n",
        "    - No, you **cannot modify** the elements of a tuple in Python. Tuples are **immutable**, meaning that once a tuple is created, its contents cannot be changed, added, or removed. This immutability is one of the defining characteristics of tuples in Python.\n",
        "\n",
        "    The reason tuples are immutable is to ensure that their data remains consistent and unaltered throughout the program. Immutability provides several benefits:\n",
        "\n",
        "    1. **Data Integrity**: By preventing modification, tuples guarantee that the data they store remains unchanged, which helps ensure data integrity in your program.\n",
        "    2. **Efficiency**: Since tuples are immutable, Python can optimize memory usage and performance, especially when tuples are used as dictionary keys or elements in sets.\n",
        "    3. **Safety in Multi-threaded Environments**: Immutability ensures that data cannot be changed accidentally, making tuples safer when shared across different parts of a program or multiple threads.\n",
        "\n",
        "    However, you can **create a new tuple** by combining or modifying elements from an existing tuple. For example:\n",
        "\n",
        "    ```python\n",
        "    my_tuple = (1, 2, 3)\n",
        "    new_tuple = my_tuple + (4,)  # Creates a new tuple by adding a new element\n",
        "    ```\n",
        "\n",
        "    In this case, you're creating a new tuple (`new_tuple`), but the original `my_tuple` remains unchanged.\n",
        "\n",
        "    In summary, while you cannot modify the elements of a tuple directly due to its immutability, you can create new tuples based on the existing ones.\n",
        "\n",
        "16. What is a nested dictionary and give an example of its use cases?\n",
        "    - A **nested dictionary** is a dictionary where the values themselves are dictionaries. This allows for the storage of more complex data structures, where each key can map to another dictionary, enabling you to represent hierarchical or multi-level relationships in your data.\n",
        "\n",
        "    ### Example of a Nested Dictionary:\n",
        "\n",
        "    ```python\n",
        "    employee_data = {\n",
        "        \"emp1\": {\n",
        "            \"name\": \"John Doe\",\n",
        "            \"age\": 30,\n",
        "            \"department\": \"Sales\"\n",
        "        },\n",
        "        \"emp2\": {\n",
        "            \"name\": \"Jane Smith\",\n",
        "            \"age\": 25,\n",
        "            \"department\": \"Marketing\"\n",
        "        }\n",
        "    }\n",
        "    ```\n",
        "\n",
        "    In this example, the outer dictionary (`employee_data`) contains keys like `\"emp1\"` and `\"emp2\"`. The values for these keys are themselves dictionaries, each holding information about the employee's `name`, `age`, and `department`.\n",
        "\n",
        "    ### Use Cases of Nested Dictionaries:\n",
        "\n",
        "    1. **Storing Hierarchical Data**: Nested dictionaries are useful for representing hierarchical data, such as organizational structures, categories, or any data with multiple levels of attributes.\n",
        "\n",
        "      Example: Representing an organization where each department has its own set of employees and their details.\n",
        "      \n",
        "      ```python\n",
        "      organization = {\n",
        "          \"Sales\": {\n",
        "              \"emp1\": {\"name\": \"John\", \"age\": 30},\n",
        "              \"emp2\": {\"name\": \"Alice\", \"age\": 28}\n",
        "          },\n",
        "          \"Marketing\": {\n",
        "              \"emp1\": {\"name\": \"Bob\", \"age\": 35},\n",
        "              \"emp2\": {\"name\": \"Eve\", \"age\": 32}\n",
        "          }\n",
        "      }\n",
        "      ```\n",
        "\n",
        "    2. **Representing Complex Objects**: When dealing with complex data structures, such as product details or configuration settings, nested dictionaries help store related data in a readable and organized way.\n",
        "\n",
        "      Example: A product catalog where each product has multiple attributes, including price, manufacturer, and stock.\n",
        "      \n",
        "      ```python\n",
        "      products = {\n",
        "          \"product1\": {\"name\": \"Laptop\", \"price\": 1000, \"stock\": 50},\n",
        "          \"product2\": {\"name\": \"Smartphone\", \"price\": 500, \"stock\": 150}\n",
        "      }\n",
        "      ```\n",
        "\n",
        "    3. **JSON-like Structures**: Nested dictionaries are often used to represent data in formats like **JSON** (JavaScript Object Notation), which is commonly used in APIs, databases, or web applications.\n",
        "\n",
        "      Example: Storing a user's information with nested address and preferences.\n",
        "      \n",
        "      ```python\n",
        "      user_info = {\n",
        "          \"user1\": {\n",
        "              \"name\": \"John Doe\",\n",
        "              \"email\": \"john@example.com\",\n",
        "              \"address\": {\"street\": \"123 Main St\", \"city\": \"New York\", \"zip\": \"10001\"},\n",
        "              \"preferences\": {\"theme\": \"dark\", \"notifications\": True}\n",
        "          }\n",
        "      }\n",
        "      ```\n",
        "\n",
        "    In summary, **nested dictionaries** are particularly useful when you need to represent structured or hierarchical data that has multiple levels of attributes or relationships. They provide a clean way to organize complex data and allow easy access and manipulation of nested elements.\n",
        "\n",
        "17. Describe the time complexity of accessing elements in a dictionary?\n",
        "    - In Python, dictionaries are implemented using **hash tables**, which allow for **efficient** access to elements based on their keys. The time complexity of accessing elements in a dictionary is:\n",
        "\n",
        "    - **Average Case**: **O(1)** (constant time)\n",
        "    - **Worst Case**: **O(n)** (linear time)\n",
        "\n",
        "    ### Average Case (O(1)):\n",
        "    - In most cases, when you access a value in a dictionary using a key, Python computes the hash of the key and uses this hash to quickly locate the corresponding value. This operation typically takes **constant time** — O(1).\n",
        "    - This makes dictionary lookups extremely efficient, even when the dictionary contains a large number of elements.\n",
        "\n",
        "    ### Worst Case (O(n)):\n",
        "    - The worst-case time complexity occurs in situations where there are **hash collisions** (when different keys produce the same hash value), and the dictionary has to handle these collisions by storing multiple keys in the same location. In this case, Python may need to check multiple entries (which is rare but can happen in poorly distributed hash functions or extreme cases).\n",
        "    - In the worst-case scenario, accessing an element could take **linear time** (O(n)) because the dictionary might have to search through all entries to find the correct key.\n",
        "\n",
        "    ### Summary:\n",
        "    - For **most cases**, dictionary lookups are **O(1)**, meaning they are very fast and efficient.\n",
        "    - In **rare cases** of hash collisions or if the dictionary is poorly implemented, the worst-case time complexity could be **O(n)**.\n",
        "\n",
        "    However, in practice, hash collisions are uncommon with Python's hash function, and the **average time complexity** of dictionary lookups is usually **O(1)**.\n",
        "\n",
        "18. In what situation does lists prefered over dictionaires?\n",
        "    - **Lists** are preferred over **dictionaries** in situations where:\n",
        "\n",
        "    1. **Order of Elements is Important**: Lists maintain the order of elements, meaning the items are stored and accessed in the exact order they were added. If you need to preserve or rely on the sequence of data, a list is a better choice. Dictionaries (prior to Python 3.7) did not guarantee order, although now they do maintain insertion order.\n",
        "\n",
        "      Example: When processing a sequence of tasks in the exact order they were received.\n",
        "\n",
        "    2. **Index-based Access**: If you need to access elements by position or index (e.g., the first element, the last element, or elements at a specific position), a list is the preferred choice. Dictionaries, on the other hand, are accessed using keys, not indexes.\n",
        "\n",
        "      Example: Working with an ordered collection like a list of numbers where you need to perform operations based on the index, such as sorting or slicing.\n",
        "\n",
        "    3. **When Data is Homogeneous**: If you're dealing with a collection of similar items where the relationship between them isn't key-value based (i.e., no need to associate one value with another), a list is typically more appropriate. Lists are commonly used when the data represents a simple sequence, such as a list of integers or strings.\n",
        "\n",
        "      Example: Storing a list of numbers for mathematical operations or processing a list of names.\n",
        "\n",
        "    4. **Performance for Sequential Operations**: Lists are optimized for sequential access, such as iterating over all elements in order. If your task involves scanning or processing every element in a collection, a list is more efficient in terms of memory and processing time.\n",
        "\n",
        "      Example: Performing calculations or transformations on every element in a collection.\n",
        "\n",
        "    5. **Fixed-size, Simple Data**: If the collection size is known ahead of time and you don’t need the complex structure of key-value pairs, lists are simpler and often more intuitive to use than dictionaries. Lists also use less memory when you don’t need the overhead of keys.\n",
        "\n",
        "      Example: A fixed list of items like months of the year or days of the week.\n",
        "\n",
        "    ### In summary:\n",
        "    - Use **lists** when you need **ordered** collections of items, **index-based access**, when your data is **homogeneous**, or for **sequential operations**.\n",
        "    - Use **dictionaries** when you need to associate **unique keys** with **values** for fast lookups or mappings.\n",
        "\n",
        "19. Why are dictionaries considereed unordered,and how does that effect data retrieval?\n",
        "    - Dictionaries in Python were traditionally considered **unordered** because, until Python 3.6, they did not guarantee the order in which the items were stored or retrieved. This was due to the internal implementation of dictionaries using **hash tables**, where the key-value pairs are stored in memory in a way that doesn't preserve any specific order.\n",
        "\n",
        "    ### Why Dictionaries Are Considered Unordered:\n",
        "\n",
        "    - **Hashing**: Dictionaries use a **hash table** to store data. When you insert a key-value pair into a dictionary, Python computes a hash of the key and uses it to determine where to store the value. This hashing process doesn't involve any natural order of the keys or values.\n",
        "    - **No Implicit Order**: In earlier versions of Python (prior to 3.7), the order of items in a dictionary was not guaranteed, and dictionaries could appear in any arbitrary order when iterating over them.\n",
        "\n",
        "    ### Change in Python 3.7+:\n",
        "    Starting from Python 3.7, dictionaries now **maintain insertion order**, meaning that the order in which key-value pairs are added to the dictionary is preserved when iterating over the dictionary. This change makes dictionaries **insertion-ordered**, but they are still not considered \"ordered\" in the traditional sense (like lists) because their primary design is focused on efficient lookups via keys, not ordering.\n",
        "\n",
        "    However, this **insertion-order preservation** is an implementation detail and should not be relied upon for tasks that require strict ordering, unless you're using Python 3.7 or later.\n",
        "\n",
        "    ### Effect of Unordered Nature on Data Retrieval:\n",
        "\n",
        "    1. **Efficient Lookups by Key**:\n",
        "      - The unordered nature of dictionaries does not affect their **efficiency for data retrieval**. Dictionaries are optimized for fast lookups using **keys**, not the order of the items. So, accessing a value by its key is still very fast (O(1) on average), regardless of the order in which the items were added.\n",
        "      \n",
        "    2. **Iteration Order**:\n",
        "      - Before Python 3.7, since dictionaries were unordered, iterating over them using a loop (e.g., `for key in my_dict`) would result in the items being returned in an arbitrary order. From Python 3.7 and onward, iteration will preserve the insertion order, but it's still important to remember that dictionaries are not primarily designed for ordered data retrieval.\n",
        "      \n",
        "    3. **No Implicit Sorting**:\n",
        "      - If you need data to be sorted, you should not rely on the insertion order. In earlier versions, if you needed sorted data, you had to explicitly sort the keys or values using methods like `sorted()`. This still applies, as dictionaries do not sort their keys or values automatically.\n",
        "\n",
        "      Example:\n",
        "      ```python\n",
        "      my_dict = {\"b\": 2, \"a\": 1, \"c\": 3}\n",
        "      sorted_keys = sorted(my_dict)  # Sorts the keys alphabetically\n",
        "      ```\n",
        "\n",
        "    ### Conclusion:\n",
        "    Dictionaries in Python are **unordered** due to their use of hash tables (prior to version 3.7). This does not affect the performance of data retrieval (which remains O(1) for key-based lookups), but it does mean that their iteration order was not guaranteed until Python 3.7, when they started maintaining insertion order. If you need data to be retrieved in a specific order, such as sorted data, you will need to explicitly sort the data.\n",
        "\n",
        "20. Explpain the difference between list and dictionaries in terms of data retrieval?\n",
        "    - The main difference between **lists** and **dictionaries** in terms of **data retrieval** lies in how they store and access their elements, as well as the methods used to retrieve them.\n",
        "\n",
        "    ### 1. **Data Retrieval in Lists**:\n",
        "\n",
        "    - **Index-Based Access**: Lists are **ordered collections** of elements, and they store data by **index** (position in the list). To retrieve an element from a list, you use the **index** of that element. The index is an integer, starting from `0` for the first item.\n",
        "      \n",
        "    - **Sequential Search**: If you don't know the index, or if you need to check for the presence of an item, Python will typically search the list sequentially (i.e., it checks each element one by one until it finds the match). This results in a **linear time complexity** of O(n) in the worst case for searching for an element by value.\n",
        "      \n",
        "      Example:\n",
        "      ```python\n",
        "      my_list = [10, 20, 30, 40]\n",
        "      print(my_list[2])  # Accesses the element at index 2 (Output: 30)\n",
        "      ```\n",
        "\n",
        "      If you want to check if a value exists:\n",
        "      ```python\n",
        "      20 in my_list  # Returns True (O(n) time complexity)\n",
        "      ```\n",
        "\n",
        "    ### 2. **Data Retrieval in Dictionaries**:\n",
        "\n",
        "    - **Key-Based Access**: Dictionaries are **unordered** collections of key-value pairs. To retrieve a value from a dictionary, you use the **key**, not an index. Each key in a dictionary must be unique, and the value associated with the key is retrieved efficiently.\n",
        "      \n",
        "    - **Constant Time Lookup (Average Case)**: When you access a value by key, Python uses a **hash table** internally, and the hash of the key is used to directly find the associated value. This results in **constant time complexity** O(1) on average, which is much faster than list retrieval when the key is known.\n",
        "\n",
        "      Example:\n",
        "      ```python\n",
        "      my_dict = {\"a\": 10, \"b\": 20, \"c\": 30}\n",
        "      print(my_dict[\"b\"])  # Accesses the value associated with the key 'b' (Output: 20)\n",
        "      ```\n",
        "\n",
        "      If you want to check if a key exists:\n",
        "      ```python\n",
        "      \"b\" in my_dict  # Returns True (O(1) time complexity)\n",
        "      ```\n",
        "\n",
        "    ### Key Differences in Data Retrieval:\n",
        "\n",
        "    1. **Access Method**:\n",
        "      - **List**: You access items by **index** (e.g., `my_list[0]`).\n",
        "      - **Dictionary**: You access items by **key** (e.g., `my_dict[\"key\"]`).\n",
        "\n",
        "    2. **Performance**:\n",
        "      - **List**: Retrieving an item by index is **O(1)**, but searching for an item by value (if you don’t know the index) is **O(n)** because you may need to check every element.\n",
        "      - **Dictionary**: Retrieval by key is **O(1)** on average, as Python uses a hash table for efficient lookups. Searching by value requires iterating through the dictionary, which takes **O(n)** time (if you don’t know the key).\n",
        "\n",
        "    3. **Order**:\n",
        "      - **List**: Lists are **ordered** (since Python 3.7), meaning that elements have a defined order, and you can iterate over them in the order they were added.\n",
        "      - **Dictionary**: Dictionaries are **unordered** (prior to Python 3.7) but maintain insertion order starting in Python 3.7. However, data retrieval does not depend on the order of items.\n",
        "\n",
        "    ### When to Use Each:\n",
        "    - **Lists** are preferred when:\n",
        "      - You need **ordered** data.\n",
        "      - You want to access elements by **index** or need to iterate through all elements.\n",
        "      - You are working with **sequences** of data.\n",
        "      \n",
        "    - **Dictionaries** are preferred when:\n",
        "      - You need to retrieve data based on **unique keys**.\n",
        "      - Fast lookups and **efficient retrieval by key** are required.\n",
        "      - You need to associate **key-value pairs** (e.g., mapping names to phone numbers).\n",
        "\n",
        "    In conclusion, **lists** are suitable for ordered collections and when you access data by index, while **dictionaries** are ideal for fast access to values using **keys**, offering much better performance when retrieval is based on a key rather than an index.\n",
        "\n"
      ],
      "metadata": {
        "id": "CslpLK3pXV3d"
      }
    },
    {
      "cell_type": "markdown",
      "source": [
        "# Practical questions"
      ],
      "metadata": {
        "id": "pi7G9UfSl4m7"
      }
    },
    {
      "cell_type": "code",
      "source": [
        "# 1. Write a code to create a string with your name and print it"
      ],
      "metadata": {
        "id": "DXoWQ8rcl-vU"
      },
      "execution_count": null,
      "outputs": []
    },
    {
      "cell_type": "code",
      "execution_count": 1,
      "metadata": {
        "id": "77EsTNx5R35_",
        "colab": {
          "base_uri": "https://localhost:8080/"
        },
        "outputId": "70ebf1d4-24d4-4187-f04d-7b4e930b925f"
      },
      "outputs": [
        {
          "output_type": "stream",
          "name": "stdout",
          "text": [
            "Arshad\n"
          ]
        }
      ],
      "source": [
        "my_name = \"Arshad\"\n",
        "print(my_name)\n"
      ]
    },
    {
      "cell_type": "code",
      "source": [
        "# 2. Write a code to find the lenght of the string \"Hello World!\""
      ],
      "metadata": {
        "id": "lglbFhZxmlGJ"
      },
      "execution_count": null,
      "outputs": []
    },
    {
      "cell_type": "code",
      "source": [
        "my_string = \"Hello World!\"\n",
        "length_of_string = len(my_string)\n",
        "print(length_of_string)"
      ],
      "metadata": {
        "colab": {
          "base_uri": "https://localhost:8080/"
        },
        "id": "4G2hf-Acm8jS",
        "outputId": "c4d67512-2ccd-4449-d4da-9601be746d10"
      },
      "execution_count": 3,
      "outputs": [
        {
          "output_type": "stream",
          "name": "stdout",
          "text": [
            "12\n"
          ]
        }
      ]
    },
    {
      "cell_type": "code",
      "source": [
        "# 3. Write a code to slice the first 3 characters from the string \"Python Programming\"."
      ],
      "metadata": {
        "id": "qtlIMPGinDGK"
      },
      "execution_count": null,
      "outputs": []
    },
    {
      "cell_type": "code",
      "source": [
        "my_string = \"Python Programming\"\n",
        "sliced_string = my_string[:3]\n",
        "print(sliced_string)"
      ],
      "metadata": {
        "colab": {
          "base_uri": "https://localhost:8080/"
        },
        "id": "Bg1mqnxKqyYv",
        "outputId": "edcf6ee2-9db1-470a-fd60-b9ad830dcff0"
      },
      "execution_count": 4,
      "outputs": [
        {
          "output_type": "stream",
          "name": "stdout",
          "text": [
            "Pyt\n"
          ]
        }
      ]
    },
    {
      "cell_type": "code",
      "source": [
        "# 4. Write a code to convert the string \"hello\" to uppercase."
      ],
      "metadata": {
        "id": "--7z_dbZq7EV"
      },
      "execution_count": null,
      "outputs": []
    },
    {
      "cell_type": "code",
      "source": [
        "my_string = \"hello\"\n",
        "uppercase_string = my_string.upper()\n",
        "print(uppercase_string)"
      ],
      "metadata": {
        "colab": {
          "base_uri": "https://localhost:8080/"
        },
        "id": "TMf5R8KWrSrY",
        "outputId": "18ac400f-24a0-44f0-e58b-6ec446cf6e56"
      },
      "execution_count": 5,
      "outputs": [
        {
          "output_type": "stream",
          "name": "stdout",
          "text": [
            "HELLO\n"
          ]
        }
      ]
    },
    {
      "cell_type": "code",
      "source": [
        "#5. Write a code to replace the word \"apple\" with \"orange\" in the string \"i like apple\"."
      ],
      "metadata": {
        "id": "NaMLeg9hrb0D"
      },
      "execution_count": null,
      "outputs": []
    },
    {
      "cell_type": "code",
      "source": [
        "my_string = \"I like apple\"\n",
        "updated_string = my_string.replace(\"apple\", \"orange\")\n",
        "print(updated_string)"
      ],
      "metadata": {
        "colab": {
          "base_uri": "https://localhost:8080/"
        },
        "id": "IXiS-_bwruKI",
        "outputId": "656959ad-1f8b-47ad-9c6f-52c8b0a17d55"
      },
      "execution_count": 6,
      "outputs": [
        {
          "output_type": "stream",
          "name": "stdout",
          "text": [
            "I like orange\n"
          ]
        }
      ]
    },
    {
      "cell_type": "code",
      "source": [
        "#6. Write a code to create a list with numbers 1 to 5 and print it."
      ],
      "metadata": {
        "id": "to_LTfKGr-hj"
      },
      "execution_count": null,
      "outputs": []
    },
    {
      "cell_type": "code",
      "source": [
        "my_list = [1, 2, 3, 4, 5]\n",
        "print(my_list)"
      ],
      "metadata": {
        "colab": {
          "base_uri": "https://localhost:8080/"
        },
        "id": "w-cnXXuMsQzX",
        "outputId": "a6587aab-9861-4b53-d5fe-35700d9ca090"
      },
      "execution_count": 7,
      "outputs": [
        {
          "output_type": "stream",
          "name": "stdout",
          "text": [
            "[1, 2, 3, 4, 5]\n"
          ]
        }
      ]
    },
    {
      "cell_type": "code",
      "source": [
        "#7. Write a code to append the numbers 10 to the list [1,2,3,4]."
      ],
      "metadata": {
        "id": "d7WiLOCksc9Y"
      },
      "execution_count": null,
      "outputs": []
    },
    {
      "cell_type": "code",
      "source": [
        "my_list = [1, 2, 3, 4]\n",
        "my_list.append(10)\n",
        "print(my_list)"
      ],
      "metadata": {
        "colab": {
          "base_uri": "https://localhost:8080/"
        },
        "id": "IkW8lHTzsy8P",
        "outputId": "647b3b30-144b-4740-df30-b880f9dbf5b8"
      },
      "execution_count": 8,
      "outputs": [
        {
          "output_type": "stream",
          "name": "stdout",
          "text": [
            "[1, 2, 3, 4, 10]\n"
          ]
        }
      ]
    },
    {
      "cell_type": "code",
      "source": [
        "#8. Write a code to remove the number 3 from the list [1,2,3,4,5]."
      ],
      "metadata": {
        "id": "s91TrhrRs5Pt"
      },
      "execution_count": null,
      "outputs": []
    },
    {
      "cell_type": "code",
      "source": [
        "my_list = [1, 2, 3, 4, 5]\n",
        "my_list.remove(3)\n",
        "print(my_list)"
      ],
      "metadata": {
        "colab": {
          "base_uri": "https://localhost:8080/"
        },
        "id": "iJRcRcnutJXd",
        "outputId": "4a30982d-cbaf-4ea0-9b31-7fafee804cce"
      },
      "execution_count": 9,
      "outputs": [
        {
          "output_type": "stream",
          "name": "stdout",
          "text": [
            "[1, 2, 4, 5]\n"
          ]
        }
      ]
    },
    {
      "cell_type": "code",
      "source": [
        "#9. Write a code to access the second element in the list ['a','b','c','d']."
      ],
      "metadata": {
        "id": "5f3HEOEytQDO"
      },
      "execution_count": null,
      "outputs": []
    },
    {
      "cell_type": "code",
      "source": [
        "my_list = ['a', 'b', 'c', 'd']\n",
        "second_element = my_list[1]\n",
        "print(second_element)"
      ],
      "metadata": {
        "colab": {
          "base_uri": "https://localhost:8080/"
        },
        "id": "PligviHAttR8",
        "outputId": "52ab3c05-c27b-42b9-ee42-a7f7ab3bafb5"
      },
      "execution_count": 10,
      "outputs": [
        {
          "output_type": "stream",
          "name": "stdout",
          "text": [
            "b\n"
          ]
        }
      ]
    },
    {
      "cell_type": "code",
      "source": [
        "#10. Write a code to reverse the list [10, 20, 30, 40, 50]."
      ],
      "metadata": {
        "id": "ETuMTukmt2cz"
      },
      "execution_count": null,
      "outputs": []
    },
    {
      "cell_type": "code",
      "source": [
        "my_list = [10, 20, 30, 40, 50]\n",
        "my_list.reverse()\n",
        "print(my_list)"
      ],
      "metadata": {
        "colab": {
          "base_uri": "https://localhost:8080/"
        },
        "id": "FUo5IlGpuCpG",
        "outputId": "97f45c87-012a-44cf-f561-de98a0ef795c"
      },
      "execution_count": 11,
      "outputs": [
        {
          "output_type": "stream",
          "name": "stdout",
          "text": [
            "[50, 40, 30, 20, 10]\n"
          ]
        }
      ]
    },
    {
      "cell_type": "code",
      "source": [
        "#11. Write a code to create a tuple with the elements 100,200,300, and print it."
      ],
      "metadata": {
        "id": "5bHAMyHOuLIf"
      },
      "execution_count": null,
      "outputs": []
    },
    {
      "cell_type": "code",
      "source": [
        "my_tuple = (100, 200, 300)\n",
        "print(my_tuple)"
      ],
      "metadata": {
        "colab": {
          "base_uri": "https://localhost:8080/"
        },
        "id": "juKRpG-1udkR",
        "outputId": "994ce243-fd5d-4c6d-a42a-a6ccf5022890"
      },
      "execution_count": 12,
      "outputs": [
        {
          "output_type": "stream",
          "name": "stdout",
          "text": [
            "(100, 200, 300)\n"
          ]
        }
      ]
    },
    {
      "cell_type": "code",
      "source": [
        "#12. Write a code to access the second-to-last element of the tuple ('red', 'green', 'blue', 'yellow')."
      ],
      "metadata": {
        "id": "b4f6V1X-u-gp"
      },
      "execution_count": null,
      "outputs": []
    },
    {
      "cell_type": "code",
      "source": [
        "my_tuple = ('red', 'green', 'blue', 'yellow')\n",
        "second_to_last_element = my_tuple[-2]\n",
        "print(second_to_last_element)"
      ],
      "metadata": {
        "colab": {
          "base_uri": "https://localhost:8080/"
        },
        "id": "vr6zdul7vQId",
        "outputId": "c860031d-d51e-4750-8a93-d4c4bb0e0d6b"
      },
      "execution_count": 15,
      "outputs": [
        {
          "output_type": "stream",
          "name": "stdout",
          "text": [
            "blue\n"
          ]
        }
      ]
    },
    {
      "cell_type": "code",
      "source": [
        "#13. Write a code to find the minimum number in the tuple (10, 20, 5, 15)"
      ],
      "metadata": {
        "id": "UHVK_pwgvevE"
      },
      "execution_count": null,
      "outputs": []
    },
    {
      "cell_type": "code",
      "source": [
        "my_tuple = (10, 20, 5, 15)\n",
        "min_number = min(my_tuple)\n",
        "print(min_number)\n"
      ],
      "metadata": {
        "colab": {
          "base_uri": "https://localhost:8080/"
        },
        "id": "xrMOGFKEv0bB",
        "outputId": "c2629df0-96dd-4a36-a8df-de26bf58e5e2"
      },
      "execution_count": 16,
      "outputs": [
        {
          "output_type": "stream",
          "name": "stdout",
          "text": [
            "5\n"
          ]
        }
      ]
    },
    {
      "cell_type": "code",
      "source": [
        "#14. Write a code to find the index of the element \"cat\" in the tuples ('dog', 'cat', 'rabbit')."
      ],
      "metadata": {
        "id": "c3LQauvYv65G"
      },
      "execution_count": null,
      "outputs": []
    },
    {
      "cell_type": "code",
      "source": [
        "my_tuple = ('dog', 'cat', 'rabbit')\n",
        "index_of_cat = my_tuple.index('cat')\n",
        "print(index_of_cat)"
      ],
      "metadata": {
        "colab": {
          "base_uri": "https://localhost:8080/"
        },
        "id": "Pms_rN-SwQ4y",
        "outputId": "80157ff4-4f1c-4d61-a81b-469082718abd"
      },
      "execution_count": 17,
      "outputs": [
        {
          "output_type": "stream",
          "name": "stdout",
          "text": [
            "1\n"
          ]
        }
      ]
    },
    {
      "cell_type": "code",
      "source": [
        "#15. Write a code to create a tuple containing three different fruits and check if \"kiwi\" is in it."
      ],
      "metadata": {
        "id": "nZQU9dRfwd8t"
      },
      "execution_count": null,
      "outputs": []
    },
    {
      "cell_type": "code",
      "source": [
        "fruits_tuple = ('apple', 'banana', 'orange')\n",
        "is_kiwi_in_tuple = 'kiwi' in fruits_tuple\n",
        "print(is_kiwi_in_tuple)\n"
      ],
      "metadata": {
        "colab": {
          "base_uri": "https://localhost:8080/"
        },
        "id": "Nc9_WKKvwyBc",
        "outputId": "a87ac93f-d61d-456f-a229-686015a1b59b"
      },
      "execution_count": 18,
      "outputs": [
        {
          "output_type": "stream",
          "name": "stdout",
          "text": [
            "False\n"
          ]
        }
      ]
    },
    {
      "cell_type": "code",
      "source": [
        "fruits_tuple = ('apple', 'kiwi', 'orange')\n",
        "is_kiwi_in_tuple = 'kiwi' in fruits_tuple\n",
        "print(is_kiwi_in_tuple)\n"
      ],
      "metadata": {
        "colab": {
          "base_uri": "https://localhost:8080/"
        },
        "id": "gJ6RA0zzxGvi",
        "outputId": "b27d4fd5-7836-4943-9893-a778e5ed0e48"
      },
      "execution_count": 19,
      "outputs": [
        {
          "output_type": "stream",
          "name": "stdout",
          "text": [
            "True\n"
          ]
        }
      ]
    },
    {
      "cell_type": "code",
      "source": [
        "#16. Write a code to create a set with the elements with the elements 'a', 'b', 'c' and print it."
      ],
      "metadata": {
        "id": "CMrhg4uPxm3w"
      },
      "execution_count": null,
      "outputs": []
    },
    {
      "cell_type": "code",
      "source": [
        "my_set = {'a', 'b', 'c'}\n",
        "print(my_set)"
      ],
      "metadata": {
        "colab": {
          "base_uri": "https://localhost:8080/"
        },
        "id": "e9UN8tT1yHQh",
        "outputId": "61be1095-6e6c-4d6c-acc6-3d7e3933127b"
      },
      "execution_count": 20,
      "outputs": [
        {
          "output_type": "stream",
          "name": "stdout",
          "text": [
            "{'a', 'c', 'b'}\n"
          ]
        }
      ]
    },
    {
      "cell_type": "code",
      "source": [
        "#17. Write a code to clear all elements from the set {1,2,3,4,5}."
      ],
      "metadata": {
        "id": "G0E2uTntyPC9"
      },
      "execution_count": null,
      "outputs": []
    },
    {
      "cell_type": "code",
      "source": [
        "my_set = {1, 2, 3, 4, 5}\n",
        "my_set.clear()\n",
        "print(my_set)"
      ],
      "metadata": {
        "colab": {
          "base_uri": "https://localhost:8080/"
        },
        "id": "brC-aaonygJg",
        "outputId": "3fab169c-c035-4871-ecc4-5d22deb82e0e"
      },
      "execution_count": 21,
      "outputs": [
        {
          "output_type": "stream",
          "name": "stdout",
          "text": [
            "set()\n"
          ]
        }
      ]
    },
    {
      "cell_type": "code",
      "source": [
        "#18. Write a code to remove the element 4 from the set {1,2,3,4}."
      ],
      "metadata": {
        "id": "3WgQykP0yoxw"
      },
      "execution_count": null,
      "outputs": []
    },
    {
      "cell_type": "code",
      "source": [
        "my_set = {1, 2, 3, 4}\n",
        "my_set.remove(4)\n",
        "print(my_set)"
      ],
      "metadata": {
        "colab": {
          "base_uri": "https://localhost:8080/"
        },
        "id": "lpNZ40IBzEDi",
        "outputId": "21455e0d-7899-42a2-ca69-ef9079b6807d"
      },
      "execution_count": 22,
      "outputs": [
        {
          "output_type": "stream",
          "name": "stdout",
          "text": [
            "{1, 2, 3}\n"
          ]
        }
      ]
    },
    {
      "cell_type": "code",
      "source": [
        "#19. Write a code to find the union of two sets {1,2,3} and {3,4,5}."
      ],
      "metadata": {
        "id": "eruM-T2NzLZ4"
      },
      "execution_count": null,
      "outputs": []
    },
    {
      "cell_type": "code",
      "source": [
        "set1 = {1, 2, 3}\n",
        "set2 = {3, 4, 5}\n",
        "union_set = set1.union(set2)\n",
        "print(union_set)"
      ],
      "metadata": {
        "colab": {
          "base_uri": "https://localhost:8080/"
        },
        "id": "zBLQmdMzzYyk",
        "outputId": "3c4b42ec-20a7-4652-859d-88a0a1e5a6b2"
      },
      "execution_count": 23,
      "outputs": [
        {
          "output_type": "stream",
          "name": "stdout",
          "text": [
            "{1, 2, 3, 4, 5}\n"
          ]
        }
      ]
    },
    {
      "cell_type": "code",
      "source": [
        "#20. Write a code to find the intersection of two sets {1,2,3} and {2,3,4}."
      ],
      "metadata": {
        "id": "53VnIzYgzhvq"
      },
      "execution_count": null,
      "outputs": []
    },
    {
      "cell_type": "code",
      "source": [
        "set1 = {1, 2, 3}\n",
        "set2 = {2, 3, 4}\n",
        "intersection_set = set1.intersection(set2)\n",
        "print(intersection_set)"
      ],
      "metadata": {
        "colab": {
          "base_uri": "https://localhost:8080/"
        },
        "id": "m0oIHu4Zz-VT",
        "outputId": "2f933be9-b33e-4905-df91-efb75eb5e0cb"
      },
      "execution_count": 24,
      "outputs": [
        {
          "output_type": "stream",
          "name": "stdout",
          "text": [
            "{2, 3}\n"
          ]
        }
      ]
    },
    {
      "cell_type": "code",
      "source": [
        "#21. Write a code to create a dictionary with the keys \"name\", \"age\", and \"city\", and print it."
      ],
      "metadata": {
        "id": "RFqUxCdy0IeP"
      },
      "execution_count": null,
      "outputs": []
    },
    {
      "cell_type": "code",
      "source": [
        "my_dict = {\n",
        "    \"name\": \"John\",\n",
        "    \"age\": 30,\n",
        "    \"city\": \"New York\"\n",
        "}\n",
        "print(my_dict)"
      ],
      "metadata": {
        "colab": {
          "base_uri": "https://localhost:8080/"
        },
        "id": "IRmt8I2Z0bWy",
        "outputId": "b95f379e-8a89-46a8-f313-e4291b27d1fa"
      },
      "execution_count": 25,
      "outputs": [
        {
          "output_type": "stream",
          "name": "stdout",
          "text": [
            "{'name': 'John', 'age': 30, 'city': 'New York'}\n"
          ]
        }
      ]
    },
    {
      "cell_type": "code",
      "source": [
        "#22. Write a code to add a new key-value pair \"country\": \"USA\" to the dictionary {'name', 'John', 'age':25}."
      ],
      "metadata": {
        "id": "uoSVeV3j0mNg"
      },
      "execution_count": null,
      "outputs": []
    },
    {
      "cell_type": "code",
      "source": [
        "my_dict = {'name': 'John', 'age': 25}\n",
        "my_dict['country'] = 'USA'\n",
        "print(my_dict)"
      ],
      "metadata": {
        "colab": {
          "base_uri": "https://localhost:8080/"
        },
        "id": "6hzVhOcx1BCW",
        "outputId": "d74e779d-d933-4615-acef-5ad073210a5e"
      },
      "execution_count": 26,
      "outputs": [
        {
          "output_type": "stream",
          "name": "stdout",
          "text": [
            "{'name': 'John', 'age': 25, 'country': 'USA'}\n"
          ]
        }
      ]
    },
    {
      "cell_type": "code",
      "source": [
        "#23. Write a code to access the value associated with the key \"name\" in the dictionary {'name':'Alice', 'city':'Paris'}."
      ],
      "metadata": {
        "id": "0DFKeUj51LD0"
      },
      "execution_count": null,
      "outputs": []
    },
    {
      "cell_type": "code",
      "source": [
        "my_dict = {'name': 'Alice', 'city': 'Paris'}\n",
        "value = my_dict.get('name')\n",
        "print(value)"
      ],
      "metadata": {
        "colab": {
          "base_uri": "https://localhost:8080/"
        },
        "id": "Nxfy4wJR1tzP",
        "outputId": "8daa8016-167f-403f-8b23-b16a6cc414f7"
      },
      "execution_count": 27,
      "outputs": [
        {
          "output_type": "stream",
          "name": "stdout",
          "text": [
            "Alice\n"
          ]
        }
      ]
    },
    {
      "cell_type": "code",
      "source": [
        "#24. Write a code to remove the key \"age\" from the dictionary {'name':'Bob', 'age':22, 'city':'New york'}."
      ],
      "metadata": {
        "id": "XcdI9lxm2y-T"
      },
      "execution_count": null,
      "outputs": []
    },
    {
      "cell_type": "code",
      "source": [
        "my_dict = {'name': 'Bob', 'age': '22', 'city': 'New York'}\n",
        "my_dict.pop('age')\n",
        "print(my_dict)\n"
      ],
      "metadata": {
        "colab": {
          "base_uri": "https://localhost:8080/"
        },
        "id": "D_qFdK8m3uiG",
        "outputId": "8c0053df-6679-49c9-f709-e6ace945aab3"
      },
      "execution_count": 28,
      "outputs": [
        {
          "output_type": "stream",
          "name": "stdout",
          "text": [
            "{'name': 'Bob', 'city': 'New York'}\n"
          ]
        }
      ]
    },
    {
      "cell_type": "code",
      "source": [
        "#25. Write a code to check if the key \"city\" exists in the dictionary {'name':'Alice', 'city':'Paris'}."
      ],
      "metadata": {
        "id": "lmdqEvs-4HUf"
      },
      "execution_count": null,
      "outputs": []
    },
    {
      "cell_type": "code",
      "source": [
        "my_dict = {'name': 'Alice', 'city': 'Paris'}\n",
        "key_exists = 'city' in my_dict\n",
        "print(key_exists)"
      ],
      "metadata": {
        "colab": {
          "base_uri": "https://localhost:8080/"
        },
        "id": "PJ2TDZJx48kK",
        "outputId": "a894ad35-e8e9-46be-ab72-9c95329dd6d0"
      },
      "execution_count": 29,
      "outputs": [
        {
          "output_type": "stream",
          "name": "stdout",
          "text": [
            "True\n"
          ]
        }
      ]
    },
    {
      "cell_type": "code",
      "source": [
        "#26. Write a code to create a list, a tuple, and a dictionary, and print them all."
      ],
      "metadata": {
        "id": "7lIV6SuN5Esp"
      },
      "execution_count": null,
      "outputs": []
    },
    {
      "cell_type": "code",
      "source": [
        "# Creating a list\n",
        "my_list = [1, 2, 3, 4, 5]\n",
        "\n",
        "# Creating a tuple\n",
        "my_tuple = ('apple', 'banana', 'cherry')\n",
        "\n",
        "# Creating a dictionary\n",
        "my_dict = {'name': 'Alice', 'age': 25, 'city': 'Paris'}\n",
        "\n",
        "# Printing the list, tuple, and dictionary\n",
        "print(\"List:\", my_list)\n",
        "print(\"Tuple:\", my_tuple)\n",
        "print(\"Dictionary:\", my_dict)"
      ],
      "metadata": {
        "colab": {
          "base_uri": "https://localhost:8080/"
        },
        "id": "1cbhT9No5QZh",
        "outputId": "6a082d5f-5e4c-4a53-cdc0-2c001344f16f"
      },
      "execution_count": 30,
      "outputs": [
        {
          "output_type": "stream",
          "name": "stdout",
          "text": [
            "List: [1, 2, 3, 4, 5]\n",
            "Tuple: ('apple', 'banana', 'cherry')\n",
            "Dictionary: {'name': 'Alice', 'age': 25, 'city': 'Paris'}\n"
          ]
        }
      ]
    },
    {
      "cell_type": "code",
      "source": [
        "#27. Write a code to create a list of 5 random numbers between 1 to 100, sort it in ascending order, and print the result.(replaced)"
      ],
      "metadata": {
        "id": "xZGGDy0B5emv"
      },
      "execution_count": null,
      "outputs": []
    },
    {
      "cell_type": "code",
      "source": [
        "import random\n",
        "\n",
        "# Creating a list of 5 random numbers between 1 and 100\n",
        "random_numbers = [random.randint(1, 100) for _ in range(5)]\n",
        "\n",
        "# Sorting the list in ascending order\n",
        "random_numbers.sort()\n",
        "\n",
        "# Printing the sorted list\n",
        "print(random_numbers)"
      ],
      "metadata": {
        "colab": {
          "base_uri": "https://localhost:8080/"
        },
        "id": "8kYoJQAi5y_z",
        "outputId": "bfd20df9-2ebb-4950-f9fa-e1822e53917d"
      },
      "execution_count": 31,
      "outputs": [
        {
          "output_type": "stream",
          "name": "stdout",
          "text": [
            "[22, 71, 82, 100, 100]\n"
          ]
        }
      ]
    },
    {
      "cell_type": "code",
      "source": [
        "#28. Write a code to create a list with strings and print the elements at the third index."
      ],
      "metadata": {
        "id": "2YU17xoI58Pl"
      },
      "execution_count": null,
      "outputs": []
    },
    {
      "cell_type": "code",
      "source": [
        "# Creating a list with strings\n",
        "my_list = ['apple', 'banana', 'cherry', 'date', 'elderberry']\n",
        "\n",
        "# Accessing and printing the element at the third index\n",
        "print(my_list[3])"
      ],
      "metadata": {
        "colab": {
          "base_uri": "https://localhost:8080/"
        },
        "id": "8pfA-6lV6K92",
        "outputId": "968d82f8-2f3d-41c7-cb60-6ce59550cd87"
      },
      "execution_count": 32,
      "outputs": [
        {
          "output_type": "stream",
          "name": "stdout",
          "text": [
            "date\n"
          ]
        }
      ]
    },
    {
      "cell_type": "code",
      "source": [
        "#29. Write a code to combine two dictionaries into one and print the result."
      ],
      "metadata": {
        "id": "setWq3kh6rdK"
      },
      "execution_count": null,
      "outputs": []
    },
    {
      "cell_type": "code",
      "source": [
        "# Creating two dictionaries\n",
        "dict1 = {'name': 'Alice', 'age': 25}\n",
        "dict2 = {'city': 'Paris', 'country': 'France'}\n",
        "\n",
        "# Combining the two dictionaries\n",
        "combined_dict = {**dict1, **dict2}\n",
        "\n",
        "# Printing the combined dictionary\n",
        "print(combined_dict)"
      ],
      "metadata": {
        "colab": {
          "base_uri": "https://localhost:8080/"
        },
        "id": "cmnLf8WM7j67",
        "outputId": "ce051d86-5165-4bb7-aa8f-6879773f595b"
      },
      "execution_count": 33,
      "outputs": [
        {
          "output_type": "stream",
          "name": "stdout",
          "text": [
            "{'name': 'Alice', 'age': 25, 'city': 'Paris', 'country': 'France'}\n"
          ]
        }
      ]
    },
    {
      "cell_type": "code",
      "source": [
        "#30. Write a code to convert a list of strings into a set."
      ],
      "metadata": {
        "id": "XgonefE97rcD"
      },
      "execution_count": null,
      "outputs": []
    },
    {
      "cell_type": "code",
      "source": [
        "# Creating a list of strings\n",
        "my_list = ['apple', 'banana', 'cherry', 'apple', 'banana']\n",
        "\n",
        "# Converting the list into a set\n",
        "my_set = set(my_list)\n",
        "\n",
        "# Printing the set\n",
        "print(my_set)"
      ],
      "metadata": {
        "colab": {
          "base_uri": "https://localhost:8080/"
        },
        "id": "A9SYP3Ym73RY",
        "outputId": "16d94abb-10be-4e09-ad1c-5c1bd507019a"
      },
      "execution_count": 34,
      "outputs": [
        {
          "output_type": "stream",
          "name": "stdout",
          "text": [
            "{'banana', 'cherry', 'apple'}\n"
          ]
        }
      ]
    }
  ]
}